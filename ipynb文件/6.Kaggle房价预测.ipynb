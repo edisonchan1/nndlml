{
 "cells": [
  {
   "cell_type": "code",
   "execution_count": 26,
   "id": "d8639a36",
   "metadata": {},
   "outputs": [],
   "source": [
    "%matplotlib inline\n",
    "import torch\n",
    "import torch.nn as nn\n",
    "import numpy as np\n",
    "import pandas as pd\n",
    "import matplotlib.pylab as plt"
   ]
  },
  {
   "cell_type": "code",
   "execution_count": 3,
   "id": "f374b0ea",
   "metadata": {},
   "outputs": [],
   "source": [
    "train_data = pd.read_csv('train.csv')\n",
    "test_data = pd.read_csv('test.csv')"
   ]
  },
  {
   "cell_type": "code",
   "execution_count": 5,
   "id": "6eec52fc",
   "metadata": {},
   "outputs": [
    {
     "data": {
      "text/plain": [
       "(1460, 81)"
      ]
     },
     "execution_count": 5,
     "metadata": {},
     "output_type": "execute_result"
    }
   ],
   "source": [
    "train_data.shape"
   ]
  },
  {
   "cell_type": "code",
   "execution_count": 6,
   "id": "361e6e0f",
   "metadata": {},
   "outputs": [
    {
     "data": {
      "text/plain": [
       "(1459, 80)"
      ]
     },
     "execution_count": 6,
     "metadata": {},
     "output_type": "execute_result"
    }
   ],
   "source": [
    "test_data.shape"
   ]
  },
  {
   "cell_type": "code",
   "execution_count": 7,
   "id": "dd2f1613",
   "metadata": {},
   "outputs": [
    {
     "data": {
      "text/html": [
       "<div>\n",
       "<style scoped>\n",
       "    .dataframe tbody tr th:only-of-type {\n",
       "        vertical-align: middle;\n",
       "    }\n",
       "\n",
       "    .dataframe tbody tr th {\n",
       "        vertical-align: top;\n",
       "    }\n",
       "\n",
       "    .dataframe thead th {\n",
       "        text-align: right;\n",
       "    }\n",
       "</style>\n",
       "<table border=\"1\" class=\"dataframe\">\n",
       "  <thead>\n",
       "    <tr style=\"text-align: right;\">\n",
       "      <th></th>\n",
       "      <th>Id</th>\n",
       "      <th>MSSubClass</th>\n",
       "      <th>MSZoning</th>\n",
       "      <th>LotFrontage</th>\n",
       "      <th>SaleType</th>\n",
       "      <th>SaleCondition</th>\n",
       "      <th>SalePrice</th>\n",
       "    </tr>\n",
       "  </thead>\n",
       "  <tbody>\n",
       "    <tr>\n",
       "      <th>0</th>\n",
       "      <td>1</td>\n",
       "      <td>60</td>\n",
       "      <td>RL</td>\n",
       "      <td>65.0</td>\n",
       "      <td>WD</td>\n",
       "      <td>Normal</td>\n",
       "      <td>208500</td>\n",
       "    </tr>\n",
       "    <tr>\n",
       "      <th>1</th>\n",
       "      <td>2</td>\n",
       "      <td>20</td>\n",
       "      <td>RL</td>\n",
       "      <td>80.0</td>\n",
       "      <td>WD</td>\n",
       "      <td>Normal</td>\n",
       "      <td>181500</td>\n",
       "    </tr>\n",
       "    <tr>\n",
       "      <th>2</th>\n",
       "      <td>3</td>\n",
       "      <td>60</td>\n",
       "      <td>RL</td>\n",
       "      <td>68.0</td>\n",
       "      <td>WD</td>\n",
       "      <td>Normal</td>\n",
       "      <td>223500</td>\n",
       "    </tr>\n",
       "    <tr>\n",
       "      <th>3</th>\n",
       "      <td>4</td>\n",
       "      <td>70</td>\n",
       "      <td>RL</td>\n",
       "      <td>60.0</td>\n",
       "      <td>WD</td>\n",
       "      <td>Abnorml</td>\n",
       "      <td>140000</td>\n",
       "    </tr>\n",
       "  </tbody>\n",
       "</table>\n",
       "</div>"
      ],
      "text/plain": [
       "   Id  MSSubClass MSZoning  LotFrontage SaleType SaleCondition  SalePrice\n",
       "0   1          60       RL         65.0       WD        Normal     208500\n",
       "1   2          20       RL         80.0       WD        Normal     181500\n",
       "2   3          60       RL         68.0       WD        Normal     223500\n",
       "3   4          70       RL         60.0       WD       Abnorml     140000"
      ]
     },
     "execution_count": 7,
     "metadata": {},
     "output_type": "execute_result"
    }
   ],
   "source": [
    "train_data.iloc[0:4,[0,1,2,3,-3,-2,-1]]"
   ]
  },
  {
   "cell_type": "markdown",
   "id": "9d26bb3b",
   "metadata": {},
   "source": [
    "第一个特征ID，它帮助模型记住每个训练样本，但难以推广到测试样本，所以不使用它来训练。将所有的训练数据和测试数据的79哥特征按样本连接。"
   ]
  },
  {
   "cell_type": "code",
   "execution_count": null,
   "id": "7e0accda",
   "metadata": {},
   "outputs": [],
   "source": [
    "all_features = pd.concat((train_data.iloc[:,1:-1],test_data.iloc[:,1:])) # 组合训练集和测试集 "
   ]
  },
  {
   "cell_type": "code",
   "execution_count": 13,
   "id": "093b8be2",
   "metadata": {},
   "outputs": [
    {
     "data": {
      "text/html": [
       "<div>\n",
       "<style scoped>\n",
       "    .dataframe tbody tr th:only-of-type {\n",
       "        vertical-align: middle;\n",
       "    }\n",
       "\n",
       "    .dataframe tbody tr th {\n",
       "        vertical-align: top;\n",
       "    }\n",
       "\n",
       "    .dataframe thead th {\n",
       "        text-align: right;\n",
       "    }\n",
       "</style>\n",
       "<table border=\"1\" class=\"dataframe\">\n",
       "  <thead>\n",
       "    <tr style=\"text-align: right;\">\n",
       "      <th></th>\n",
       "      <th>MSSubClass</th>\n",
       "      <th>MSZoning</th>\n",
       "      <th>LotFrontage</th>\n",
       "      <th>LotArea</th>\n",
       "      <th>Street</th>\n",
       "      <th>Alley</th>\n",
       "      <th>LotShape</th>\n",
       "      <th>LandContour</th>\n",
       "      <th>Utilities</th>\n",
       "      <th>LotConfig</th>\n",
       "      <th>...</th>\n",
       "      <th>ScreenPorch</th>\n",
       "      <th>PoolArea</th>\n",
       "      <th>PoolQC</th>\n",
       "      <th>Fence</th>\n",
       "      <th>MiscFeature</th>\n",
       "      <th>MiscVal</th>\n",
       "      <th>MoSold</th>\n",
       "      <th>YrSold</th>\n",
       "      <th>SaleType</th>\n",
       "      <th>SaleCondition</th>\n",
       "    </tr>\n",
       "  </thead>\n",
       "  <tbody>\n",
       "    <tr>\n",
       "      <th>0</th>\n",
       "      <td>0.067320</td>\n",
       "      <td>RL</td>\n",
       "      <td>-0.202033</td>\n",
       "      <td>-0.217841</td>\n",
       "      <td>Pave</td>\n",
       "      <td>0</td>\n",
       "      <td>Reg</td>\n",
       "      <td>Lvl</td>\n",
       "      <td>AllPub</td>\n",
       "      <td>Inside</td>\n",
       "      <td>...</td>\n",
       "      <td>-0.285886</td>\n",
       "      <td>-0.063139</td>\n",
       "      <td>0</td>\n",
       "      <td>0</td>\n",
       "      <td>0</td>\n",
       "      <td>-0.089577</td>\n",
       "      <td>-1.551918</td>\n",
       "      <td>0.157619</td>\n",
       "      <td>WD</td>\n",
       "      <td>Normal</td>\n",
       "    </tr>\n",
       "    <tr>\n",
       "      <th>1</th>\n",
       "      <td>-0.873466</td>\n",
       "      <td>RL</td>\n",
       "      <td>0.501785</td>\n",
       "      <td>-0.072032</td>\n",
       "      <td>Pave</td>\n",
       "      <td>0</td>\n",
       "      <td>Reg</td>\n",
       "      <td>Lvl</td>\n",
       "      <td>AllPub</td>\n",
       "      <td>FR2</td>\n",
       "      <td>...</td>\n",
       "      <td>-0.285886</td>\n",
       "      <td>-0.063139</td>\n",
       "      <td>0</td>\n",
       "      <td>0</td>\n",
       "      <td>0</td>\n",
       "      <td>-0.089577</td>\n",
       "      <td>-0.446848</td>\n",
       "      <td>-0.602858</td>\n",
       "      <td>WD</td>\n",
       "      <td>Normal</td>\n",
       "    </tr>\n",
       "    <tr>\n",
       "      <th>2</th>\n",
       "      <td>0.067320</td>\n",
       "      <td>RL</td>\n",
       "      <td>-0.061269</td>\n",
       "      <td>0.137173</td>\n",
       "      <td>Pave</td>\n",
       "      <td>0</td>\n",
       "      <td>IR1</td>\n",
       "      <td>Lvl</td>\n",
       "      <td>AllPub</td>\n",
       "      <td>Inside</td>\n",
       "      <td>...</td>\n",
       "      <td>-0.285886</td>\n",
       "      <td>-0.063139</td>\n",
       "      <td>0</td>\n",
       "      <td>0</td>\n",
       "      <td>0</td>\n",
       "      <td>-0.089577</td>\n",
       "      <td>1.026577</td>\n",
       "      <td>0.157619</td>\n",
       "      <td>WD</td>\n",
       "      <td>Normal</td>\n",
       "    </tr>\n",
       "    <tr>\n",
       "      <th>3</th>\n",
       "      <td>0.302516</td>\n",
       "      <td>RL</td>\n",
       "      <td>-0.436639</td>\n",
       "      <td>-0.078371</td>\n",
       "      <td>Pave</td>\n",
       "      <td>0</td>\n",
       "      <td>IR1</td>\n",
       "      <td>Lvl</td>\n",
       "      <td>AllPub</td>\n",
       "      <td>Corner</td>\n",
       "      <td>...</td>\n",
       "      <td>-0.285886</td>\n",
       "      <td>-0.063139</td>\n",
       "      <td>0</td>\n",
       "      <td>0</td>\n",
       "      <td>0</td>\n",
       "      <td>-0.089577</td>\n",
       "      <td>-1.551918</td>\n",
       "      <td>-1.363335</td>\n",
       "      <td>WD</td>\n",
       "      <td>Abnorml</td>\n",
       "    </tr>\n",
       "    <tr>\n",
       "      <th>4</th>\n",
       "      <td>0.067320</td>\n",
       "      <td>RL</td>\n",
       "      <td>0.689469</td>\n",
       "      <td>0.518814</td>\n",
       "      <td>Pave</td>\n",
       "      <td>0</td>\n",
       "      <td>IR1</td>\n",
       "      <td>Lvl</td>\n",
       "      <td>AllPub</td>\n",
       "      <td>FR2</td>\n",
       "      <td>...</td>\n",
       "      <td>-0.285886</td>\n",
       "      <td>-0.063139</td>\n",
       "      <td>0</td>\n",
       "      <td>0</td>\n",
       "      <td>0</td>\n",
       "      <td>-0.089577</td>\n",
       "      <td>2.131647</td>\n",
       "      <td>0.157619</td>\n",
       "      <td>WD</td>\n",
       "      <td>Normal</td>\n",
       "    </tr>\n",
       "    <tr>\n",
       "      <th>...</th>\n",
       "      <td>...</td>\n",
       "      <td>...</td>\n",
       "      <td>...</td>\n",
       "      <td>...</td>\n",
       "      <td>...</td>\n",
       "      <td>...</td>\n",
       "      <td>...</td>\n",
       "      <td>...</td>\n",
       "      <td>...</td>\n",
       "      <td>...</td>\n",
       "      <td>...</td>\n",
       "      <td>...</td>\n",
       "      <td>...</td>\n",
       "      <td>...</td>\n",
       "      <td>...</td>\n",
       "      <td>...</td>\n",
       "      <td>...</td>\n",
       "      <td>...</td>\n",
       "      <td>...</td>\n",
       "      <td>...</td>\n",
       "      <td>...</td>\n",
       "    </tr>\n",
       "    <tr>\n",
       "      <th>1454</th>\n",
       "      <td>2.419286</td>\n",
       "      <td>RM</td>\n",
       "      <td>-2.266564</td>\n",
       "      <td>-1.043758</td>\n",
       "      <td>Pave</td>\n",
       "      <td>0</td>\n",
       "      <td>Reg</td>\n",
       "      <td>Lvl</td>\n",
       "      <td>AllPub</td>\n",
       "      <td>Inside</td>\n",
       "      <td>...</td>\n",
       "      <td>-0.285886</td>\n",
       "      <td>-0.063139</td>\n",
       "      <td>0</td>\n",
       "      <td>0</td>\n",
       "      <td>0</td>\n",
       "      <td>-0.089577</td>\n",
       "      <td>-0.078492</td>\n",
       "      <td>-1.363335</td>\n",
       "      <td>WD</td>\n",
       "      <td>Normal</td>\n",
       "    </tr>\n",
       "    <tr>\n",
       "      <th>1455</th>\n",
       "      <td>2.419286</td>\n",
       "      <td>RM</td>\n",
       "      <td>-2.266564</td>\n",
       "      <td>-1.049083</td>\n",
       "      <td>Pave</td>\n",
       "      <td>0</td>\n",
       "      <td>Reg</td>\n",
       "      <td>Lvl</td>\n",
       "      <td>AllPub</td>\n",
       "      <td>Inside</td>\n",
       "      <td>...</td>\n",
       "      <td>-0.285886</td>\n",
       "      <td>-0.063139</td>\n",
       "      <td>0</td>\n",
       "      <td>0</td>\n",
       "      <td>0</td>\n",
       "      <td>-0.089577</td>\n",
       "      <td>-0.815205</td>\n",
       "      <td>-1.363335</td>\n",
       "      <td>WD</td>\n",
       "      <td>Abnorml</td>\n",
       "    </tr>\n",
       "    <tr>\n",
       "      <th>1456</th>\n",
       "      <td>-0.873466</td>\n",
       "      <td>RL</td>\n",
       "      <td>4.255477</td>\n",
       "      <td>1.246594</td>\n",
       "      <td>Pave</td>\n",
       "      <td>0</td>\n",
       "      <td>Reg</td>\n",
       "      <td>Lvl</td>\n",
       "      <td>AllPub</td>\n",
       "      <td>Inside</td>\n",
       "      <td>...</td>\n",
       "      <td>-0.285886</td>\n",
       "      <td>-0.063139</td>\n",
       "      <td>0</td>\n",
       "      <td>0</td>\n",
       "      <td>0</td>\n",
       "      <td>-0.089577</td>\n",
       "      <td>1.026577</td>\n",
       "      <td>-1.363335</td>\n",
       "      <td>WD</td>\n",
       "      <td>Abnorml</td>\n",
       "    </tr>\n",
       "    <tr>\n",
       "      <th>1457</th>\n",
       "      <td>0.655311</td>\n",
       "      <td>RL</td>\n",
       "      <td>-0.342796</td>\n",
       "      <td>0.034599</td>\n",
       "      <td>Pave</td>\n",
       "      <td>0</td>\n",
       "      <td>Reg</td>\n",
       "      <td>Lvl</td>\n",
       "      <td>AllPub</td>\n",
       "      <td>Inside</td>\n",
       "      <td>...</td>\n",
       "      <td>-0.285886</td>\n",
       "      <td>-0.063139</td>\n",
       "      <td>0</td>\n",
       "      <td>MnPrv</td>\n",
       "      <td>Shed</td>\n",
       "      <td>1.144116</td>\n",
       "      <td>0.289865</td>\n",
       "      <td>-1.363335</td>\n",
       "      <td>WD</td>\n",
       "      <td>Normal</td>\n",
       "    </tr>\n",
       "    <tr>\n",
       "      <th>1458</th>\n",
       "      <td>0.067320</td>\n",
       "      <td>RL</td>\n",
       "      <td>0.220258</td>\n",
       "      <td>-0.068608</td>\n",
       "      <td>Pave</td>\n",
       "      <td>0</td>\n",
       "      <td>Reg</td>\n",
       "      <td>Lvl</td>\n",
       "      <td>AllPub</td>\n",
       "      <td>Inside</td>\n",
       "      <td>...</td>\n",
       "      <td>-0.285886</td>\n",
       "      <td>-0.063139</td>\n",
       "      <td>0</td>\n",
       "      <td>0</td>\n",
       "      <td>0</td>\n",
       "      <td>-0.089577</td>\n",
       "      <td>1.763290</td>\n",
       "      <td>-1.363335</td>\n",
       "      <td>WD</td>\n",
       "      <td>Normal</td>\n",
       "    </tr>\n",
       "  </tbody>\n",
       "</table>\n",
       "<p>2919 rows × 79 columns</p>\n",
       "</div>"
      ],
      "text/plain": [
       "      MSSubClass MSZoning  LotFrontage   LotArea Street Alley LotShape  \\\n",
       "0       0.067320       RL    -0.202033 -0.217841   Pave     0      Reg   \n",
       "1      -0.873466       RL     0.501785 -0.072032   Pave     0      Reg   \n",
       "2       0.067320       RL    -0.061269  0.137173   Pave     0      IR1   \n",
       "3       0.302516       RL    -0.436639 -0.078371   Pave     0      IR1   \n",
       "4       0.067320       RL     0.689469  0.518814   Pave     0      IR1   \n",
       "...          ...      ...          ...       ...    ...   ...      ...   \n",
       "1454    2.419286       RM    -2.266564 -1.043758   Pave     0      Reg   \n",
       "1455    2.419286       RM    -2.266564 -1.049083   Pave     0      Reg   \n",
       "1456   -0.873466       RL     4.255477  1.246594   Pave     0      Reg   \n",
       "1457    0.655311       RL    -0.342796  0.034599   Pave     0      Reg   \n",
       "1458    0.067320       RL     0.220258 -0.068608   Pave     0      Reg   \n",
       "\n",
       "     LandContour Utilities LotConfig  ... ScreenPorch  PoolArea PoolQC  Fence  \\\n",
       "0            Lvl    AllPub    Inside  ...   -0.285886 -0.063139      0      0   \n",
       "1            Lvl    AllPub       FR2  ...   -0.285886 -0.063139      0      0   \n",
       "2            Lvl    AllPub    Inside  ...   -0.285886 -0.063139      0      0   \n",
       "3            Lvl    AllPub    Corner  ...   -0.285886 -0.063139      0      0   \n",
       "4            Lvl    AllPub       FR2  ...   -0.285886 -0.063139      0      0   \n",
       "...          ...       ...       ...  ...         ...       ...    ...    ...   \n",
       "1454         Lvl    AllPub    Inside  ...   -0.285886 -0.063139      0      0   \n",
       "1455         Lvl    AllPub    Inside  ...   -0.285886 -0.063139      0      0   \n",
       "1456         Lvl    AllPub    Inside  ...   -0.285886 -0.063139      0      0   \n",
       "1457         Lvl    AllPub    Inside  ...   -0.285886 -0.063139      0  MnPrv   \n",
       "1458         Lvl    AllPub    Inside  ...   -0.285886 -0.063139      0      0   \n",
       "\n",
       "     MiscFeature   MiscVal    MoSold    YrSold  SaleType  SaleCondition  \n",
       "0              0 -0.089577 -1.551918  0.157619        WD         Normal  \n",
       "1              0 -0.089577 -0.446848 -0.602858        WD         Normal  \n",
       "2              0 -0.089577  1.026577  0.157619        WD         Normal  \n",
       "3              0 -0.089577 -1.551918 -1.363335        WD        Abnorml  \n",
       "4              0 -0.089577  2.131647  0.157619        WD         Normal  \n",
       "...          ...       ...       ...       ...       ...            ...  \n",
       "1454           0 -0.089577 -0.078492 -1.363335        WD         Normal  \n",
       "1455           0 -0.089577 -0.815205 -1.363335        WD        Abnorml  \n",
       "1456           0 -0.089577  1.026577 -1.363335        WD        Abnorml  \n",
       "1457        Shed  1.144116  0.289865 -1.363335        WD         Normal  \n",
       "1458           0 -0.089577  1.763290 -1.363335        WD         Normal  \n",
       "\n",
       "[2919 rows x 79 columns]"
      ]
     },
     "execution_count": 13,
     "metadata": {},
     "output_type": "execute_result"
    }
   ],
   "source": [
    "# 预处理：标准化。\n",
    "\n",
    "numeric_features = all_features.dtypes[all_features.dtypes!='object'].index\n",
    "all_features[numeric_features] = all_features[numeric_features].apply(\n",
    "    lambda X:(X-X.mean())/(X.std())\n",
    ")\n",
    "all_features = all_features.fillna(0) #  标准化后，每个特征的均值变为0，所以可以直接⽤0来替换缺失值\n",
    "all_features"
   ]
  },
  {
   "cell_type": "markdown",
   "id": "26944844",
   "metadata": {},
   "source": [
    "接下来将离散数值转成指示数值。MSZoning 中的 RL 和RM，去掉MSZoning特征，并新加入两个特征MSZoning_RL 和MSZoning_RM，其值为0或1。如果⼀个样本原来在MSZoning⾥的值为RL，那么有MSZoning_RL=1且MSZoning_RM=0。"
   ]
  },
  {
   "cell_type": "code",
   "execution_count": null,
   "id": "758627e0",
   "metadata": {},
   "outputs": [
    {
     "name": "stdout",
     "output_type": "stream",
     "text": [
      "Index(['MSSubClass', 'LotFrontage', 'LotArea', 'OverallQual', 'OverallCond',\n",
      "       'YearBuilt', 'YearRemodAdd', 'MasVnrArea', 'BsmtFinSF1', 'BsmtFinSF2',\n",
      "       ...\n",
      "       'SaleType_Oth', 'SaleType_WD', 'SaleType_nan', 'SaleCondition_Abnorml',\n",
      "       'SaleCondition_AdjLand', 'SaleCondition_Alloca', 'SaleCondition_Family',\n",
      "       'SaleCondition_Normal', 'SaleCondition_Partial', 'SaleCondition_nan'],\n",
      "      dtype='object', length=354)\n",
      "(2919, 354)\n"
     ]
    }
   ],
   "source": [
    "all_features= pd.get_dummies(all_features,dummy_na=True) # dummy_na 对缺失值也使用度热编码\n",
    "print(all_features.columns)\n",
    "print(all_features.shape)"
   ]
  },
  {
   "cell_type": "code",
   "execution_count": 23,
   "id": "10218bc2",
   "metadata": {},
   "outputs": [],
   "source": [
    "n_train = train_data.shape[0]\n",
    "train_features = torch.tensor(all_features[:n_train].values,dtype=torch.float)\n",
    "test_features = torch.tensor(all_features[n_train:].values,dtype=torch.float)\n",
    "train_labels = torch.tensor(train_data.SalePrice.values,dtype=torch.float).view(-1,1)"
   ]
  },
  {
   "cell_type": "code",
   "execution_count": 41,
   "id": "4423261c",
   "metadata": {},
   "outputs": [],
   "source": [
    "loss = nn.MSELoss()\n",
    "in_features = train_features.shape[1]\n",
    "\n",
    "def get_net():\n",
    "    net = nn.Sequential(nn.Linear(in_features,1))\n",
    "    return net"
   ]
  },
  {
   "cell_type": "markdown",
   "id": "d8b6a4d1",
   "metadata": {},
   "source": [
    "下面定义比赛用来评价模型的对数均方根误差。给定预测值 $\\hat y_i \\dots,\\hat y_n$ 和对应的真实标签 $y_1,\\dots,y_n$。\n",
    "\n",
    "它的定义为 \n",
    "\n",
    "$$\n",
    "\\sqrt{\\frac{1}{n}\\sum_{i=1}^n (\\log {(y_i)} - \\log {(\\hat y_i)})^2}\n",
    "$$\n",
    "\n",
    "实现如下"
   ]
  },
  {
   "cell_type": "code",
   "execution_count": 42,
   "id": "fdff922b",
   "metadata": {},
   "outputs": [],
   "source": [
    "def log_rmse(net,features,labels):\n",
    "    with torch.no_grad():\n",
    "        clipped_preds = torch.max(net(features),torch.tensor(1.0)) # 将net 的最小值定位1，否则 log() 出现负值\n",
    "        rmse = torch.sqrt(2*loss(clipped_preds.log(),labels.log()).mean())\n",
    "    return rmse.item()"
   ]
  },
  {
   "cell_type": "markdown",
   "id": "828e7e1a",
   "metadata": {},
   "source": [
    "下面的训练函数跟本章中前几节的不同在于使用了Adam 优化算法。相比之前使用的小批量随机梯度下降，它对学习率相对不敏感。之后会详细介绍。"
   ]
  },
  {
   "cell_type": "code",
   "execution_count": 53,
   "id": "a1f75ed3",
   "metadata": {},
   "outputs": [],
   "source": [
    "def train(net,train_features,train_labels,test_features,test_labels,num_epochs,learning_rate,weight_decay,batch_size):\n",
    "    train_ls,test_ls = [],[]\n",
    "    dataset = torch.utils.data.TensorDataset(train_features,train_labels)\n",
    "    train_iter = torch.utils.data.DataLoader(dataset,batch_size,shuffle=True)\n",
    "    optimizer = torch.optim.Adam(params=net.parameters(),lr = learning_rate,weight_decay=weight_decay) # 这里不使用小批量随机梯度下降，weight_decay 表示权重衰减\n",
    "    net = net.float()\n",
    "    for epoch in range(num_epochs):\n",
    "        for X,y in train_iter:\n",
    "            l = loss(net(X.float()),y.float())\n",
    "            optimizer.zero_grad()\n",
    "            l.backward()\n",
    "            optimizer.step()\n",
    "        train_ls.append(log_rmse(net,train_features,train_labels))\n",
    "        if test_labels is not None:\n",
    "            test_ls.append(log_rmse(net,test_features,test_labels))\n",
    "    return train_ls,test_ls"
   ]
  },
  {
   "cell_type": "code",
   "execution_count": null,
   "id": "6766f7dd",
   "metadata": {},
   "outputs": [],
   "source": [
    "def get_k_fold_data(k, i, X, y):\n",
    "    assert k > 1\n",
    "    fold_size = X.shape[0] // k\n",
    "    X_train, y_train = None, None\n",
    "    for j in range(k):\n",
    "        idx = slice(j * fold_size, (j + 1) * fold_size) #索引切片\n",
    "        X_part, y_part = X[idx, :], y[idx] \n",
    "        if j == i: #是否等于验证集的折数\n",
    "            X_valid, y_valid = X_part, y_part # 验证集\n",
    "        elif X_train is None: #如果不是验证集 且训练集尚未初始化，则该折为验证集数据\n",
    "            X_train, y_train = X_part, y_part\n",
    "        else: # 训练集初始化了，但还不是测试集，则将两部分按照列拼接起来\n",
    "            X_train = torch.cat([X_train, X_part], dim=0)\n",
    "            y_train = torch.cat([y_train, y_part], dim=0)\n",
    "    return X_train, y_train, X_valid, y_valid"
   ]
  },
  {
   "cell_type": "code",
   "execution_count": 66,
   "id": "4cd8850a",
   "metadata": {},
   "outputs": [],
   "source": [
    "# 训练模型\n",
    "\n",
    "def semilogy(x_vals,y_vals,x_label,y_label,x2_vals =None,y2_vals =None,legend = None,figsize=(3.5,2.5)):\n",
    "    plt.figure(figsize=figsize)\n",
    "    plt.xlabel(x_label)\n",
    "    plt.ylabel(y_label)\n",
    "    plt.semilogy(x_vals,y_vals) #核心特点：x 轴使用线性刻度，y 轴使用对数刻度。\n",
    "    if x2_vals and y2_vals:\n",
    "        plt.semilogy(x2_vals,y2_vals,linestyle=':')\n",
    "        plt.legend(legend)\n"
   ]
  },
  {
   "cell_type": "code",
   "execution_count": null,
   "id": "ee5adb81",
   "metadata": {},
   "outputs": [],
   "source": [
    "def k_fold(k, X_train, y_train, num_epochs, learning_rate, weight_decay,\n",
    "           batch_size):\n",
    "    train_l_sum, valid_l_sum = 0, 0\n",
    "    for i in range(k):\n",
    "        data = get_k_fold_data(k, i, X_train, y_train)\n",
    "        net = get_net()\n",
    "        train_ls, valid_ls = train(net, *data, num_epochs, learning_rate,\n",
    "                                   weight_decay, batch_size)\n",
    "        train_l_sum += train_ls[-1]\n",
    "        valid_l_sum += valid_ls[-1]\n",
    "        if i == 0:\n",
    "            semilogy(\n",
    "    range(1, num_epochs+1),  # x_vals（训练轮数）\n",
    "    train_ls,                # y_vals（训练损失）\n",
    "    'epochs',                # x_label\n",
    "    'log rmse',              # y_label\n",
    "    x2_vals=range(1, num_epochs+1),  # 验证集x轴\n",
    "    y2_vals=valid_ls,                # 验证集y轴（损失）\n",
    "    legend=['train', 'valid']        # 图例\n",
    ")\n",
    "        print(f'折{i + 1},训练log rmse{float(train_ls[-1]):f}, '\n",
    "              f'验证log rmse{float(valid_ls[-1]):f}')\n",
    "    return train_l_sum / k, valid_l_sum / k"
   ]
  },
  {
   "cell_type": "code",
   "execution_count": 68,
   "id": "a079c020",
   "metadata": {},
   "outputs": [
    {
     "name": "stdout",
     "output_type": "stream",
     "text": [
      "折1,训练log rmse0.242108, 验证log rmse0.222009\n",
      "折2,训练log rmse0.229080, 验证log rmse0.267944\n",
      "折3,训练log rmse0.232014, 验证log rmse0.238299\n",
      "折4,训练log rmse0.238326, 验证log rmse0.218643\n",
      "折5,训练log rmse0.231084, 验证log rmse0.258451\n",
      "5-折验证: 平均训练log rmse: 0.234522, 平均验证log rmse: 0.241069\n"
     ]
    },
    {
     "data": {
      "image/png": "[encoded data removed]",
      "text/plain": [
       "<Figure size 252x180 with 1 Axes>"
      ]
     },
     "metadata": {
      "needs_background": "light"
     },
     "output_type": "display_data"
    }
   ],
   "source": [
    "k, num_epochs, lr, weight_decay, batch_size = 5, 100, 5, 0, 64\n",
    "train_ls, valid_ls = k_fold(k, train_features, train_labels, num_epochs, lr,\n",
    "                          weight_decay, batch_size)\n",
    "print(f'{k}-折验证: 平均训练log rmse: {float(train_ls):f}, '\n",
    "      f'平均验证log rmse: {float(valid_ls):f}')"
   ]
  },
  {
   "cell_type": "code",
   "execution_count": 73,
   "id": "5aea3456",
   "metadata": {},
   "outputs": [],
   "source": [
    "def train_and_pred(train_features,test_features,train_labels,test_data,num_epochs,lr,weight_decay,batch_size):\n",
    "    net = get_net()\n",
    "    train_ls,_ = train(net,train_features,train_labels,None,None,num_epochs,lr,weight_decay,batch_size)\n",
    "    semilogy(range(1, num_epochs + 1), train_ls, 'epochs','rmse')\n",
    "    print(f'训练 log rmse:{float(train_ls[-1]):f}')\n",
    "    preds = net(test_features).detach().numpy() # 从计算图中分离出来，不再计算梯度，并转换成numpy数组\n",
    "    test_data['SalePrice'] = pd.Series(preds.reshape(1,-1)[0]) #将一维数组转换为 pandas 的 Series（便于添加到 DataFrame）。\n",
    "    submission = pd.concat([test_data['Id'], test_data['SalePrice']], axis=1) # 拼接两个 Series，生成一个新的 DataFrame submission，包含两列：Id（样本 ID）和SalePrice（预测房价）。\n",
    "    submission.to_csv('submission.csv', index=False)"
   ]
  },
  {
   "cell_type": "code",
   "execution_count": 74,
   "id": "eecfc19f",
   "metadata": {},
   "outputs": [
    {
     "name": "stdout",
     "output_type": "stream",
     "text": [
      "训练 log rmse:0.230065\n"
     ]
    },
    {
     "data": {
      "image/png": "[encoded data removed]",
      "text/plain": [
       "<Figure size 252x180 with 1 Axes>"
      ]
     },
     "metadata": {
      "needs_background": "light"
     },
     "output_type": "display_data"
    }
   ],
   "source": [
    "train_and_pred(train_features,test_features,train_labels,test_data,num_epochs,lr,weight_decay,batch_size)"
   ]
  },
  {
   "attachments": {
    "image.png": {
     "image/png": "[encoded data removed]"
    }
   },
   "cell_type": "markdown",
   "id": "331443e6",
   "metadata": {},
   "source": [
    "![image.png](attachment:image.png)\n",
    "\n",
    "上传成功\n",
    "\n",
    "## 小结\n",
    "\n",
    "通常需要对真实数据做预处理\n",
    "\n",
    "可以使用 K 折交叉验证来选择模型并调节超参数。"
   ]
  },
  {
   "cell_type": "code",
   "execution_count": null,
   "id": "d430e3d5",
   "metadata": {},
   "outputs": [],
   "source": []
  }
 ],
 "metadata": {
  "kernelspec": {
   "display_name": "pytorch",
   "language": "python",
   "name": "python3"
  },
  "language_info": {
   "codemirror_mode": {
    "name": "ipython",
    "version": 3
   },
   "file_extension": ".py",
   "mimetype": "text/x-python",
   "name": "python",
   "nbconvert_exporter": "python",
   "pygments_lexer": "ipython3",
   "version": "3.6.15"
  }
 },
 "nbformat": 4,
 "nbformat_minor": 5
}
